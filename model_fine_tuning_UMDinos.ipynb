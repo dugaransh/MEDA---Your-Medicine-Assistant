{
  "cells": [
    {
      "cell_type": "code",
      "execution_count": null,
      "id": "32036e70",
      "metadata": {
        "colab": {
          "base_uri": "https://localhost:8080/"
        },
        "id": "32036e70",
        "outputId": "09c16004-809d-40a0-c0ab-41505698623d"
      },
      "outputs": [
        {
          "output_type": "stream",
          "name": "stdout",
          "text": [
            "Collecting openai\n",
            "  Downloading openai-1.28.1-py3-none-any.whl (320 kB)\n",
            "\u001b[2K     \u001b[90m━━━━━━━━━━━━━━━━━━━━━━━━━━━━━━━━━━━━━━━━\u001b[0m \u001b[32m320.1/320.1 kB\u001b[0m \u001b[31m2.0 MB/s\u001b[0m eta \u001b[36m0:00:00\u001b[0m\n",
            "\u001b[?25hRequirement already satisfied: anyio<5,>=3.5.0 in /usr/local/lib/python3.10/dist-packages (from openai) (3.7.1)\n",
            "Requirement already satisfied: distro<2,>=1.7.0 in /usr/lib/python3/dist-packages (from openai) (1.7.0)\n",
            "Collecting httpx<1,>=0.23.0 (from openai)\n",
            "  Downloading httpx-0.27.0-py3-none-any.whl (75 kB)\n",
            "\u001b[2K     \u001b[90m━━━━━━━━━━━━━━━━━━━━━━━━━━━━━━━━━━━━━━━━\u001b[0m \u001b[32m75.6/75.6 kB\u001b[0m \u001b[31m3.9 MB/s\u001b[0m eta \u001b[36m0:00:00\u001b[0m\n",
            "\u001b[?25hRequirement already satisfied: pydantic<3,>=1.9.0 in /usr/local/lib/python3.10/dist-packages (from openai) (2.7.1)\n",
            "Requirement already satisfied: sniffio in /usr/local/lib/python3.10/dist-packages (from openai) (1.3.1)\n",
            "Requirement already satisfied: tqdm>4 in /usr/local/lib/python3.10/dist-packages (from openai) (4.66.4)\n",
            "Requirement already satisfied: typing-extensions<5,>=4.7 in /usr/local/lib/python3.10/dist-packages (from openai) (4.11.0)\n",
            "Requirement already satisfied: idna>=2.8 in /usr/local/lib/python3.10/dist-packages (from anyio<5,>=3.5.0->openai) (3.7)\n",
            "Requirement already satisfied: exceptiongroup in /usr/local/lib/python3.10/dist-packages (from anyio<5,>=3.5.0->openai) (1.2.1)\n",
            "Requirement already satisfied: certifi in /usr/local/lib/python3.10/dist-packages (from httpx<1,>=0.23.0->openai) (2024.2.2)\n",
            "Collecting httpcore==1.* (from httpx<1,>=0.23.0->openai)\n",
            "  Downloading httpcore-1.0.5-py3-none-any.whl (77 kB)\n",
            "\u001b[2K     \u001b[90m━━━━━━━━━━━━━━━━━━━━━━━━━━━━━━━━━━━━━━━━\u001b[0m \u001b[32m77.9/77.9 kB\u001b[0m \u001b[31m4.4 MB/s\u001b[0m eta \u001b[36m0:00:00\u001b[0m\n",
            "\u001b[?25hCollecting h11<0.15,>=0.13 (from httpcore==1.*->httpx<1,>=0.23.0->openai)\n",
            "  Downloading h11-0.14.0-py3-none-any.whl (58 kB)\n",
            "\u001b[2K     \u001b[90m━━━━━━━━━━━━━━━━━━━━━━━━━━━━━━━━━━━━━━━━\u001b[0m \u001b[32m58.3/58.3 kB\u001b[0m \u001b[31m3.6 MB/s\u001b[0m eta \u001b[36m0:00:00\u001b[0m\n",
            "\u001b[?25hRequirement already satisfied: annotated-types>=0.4.0 in /usr/local/lib/python3.10/dist-packages (from pydantic<3,>=1.9.0->openai) (0.6.0)\n",
            "Requirement already satisfied: pydantic-core==2.18.2 in /usr/local/lib/python3.10/dist-packages (from pydantic<3,>=1.9.0->openai) (2.18.2)\n",
            "Installing collected packages: h11, httpcore, httpx, openai\n",
            "Successfully installed h11-0.14.0 httpcore-1.0.5 httpx-0.27.0 openai-1.28.1\n"
          ]
        }
      ],
      "source": [
        "# make sure to use the latest version of the openai python package\n",
        "!pip install --upgrade openai"
      ]
    },
    {
      "cell_type": "code",
      "execution_count": null,
      "id": "6e1f4403-37e1-4115-a215-12fd7daa1eb6",
      "metadata": {
        "id": "6e1f4403-37e1-4115-a215-12fd7daa1eb6"
      },
      "outputs": [],
      "source": [
        "import json\n",
        "import openai\n",
        "import os\n",
        "import pandas as pd\n",
        "from pprint import pprint\n",
        "\n",
        "client = openai.OpenAI(api_key=os.environ.get(\"OPENAI_API_KEY\", \"sk-proj-x9XrkmMcchsC5r314ufCT3BlbkFJ0SXyeSsSNF7xYH0fiHvn\"))"
      ]
    },
    {
      "cell_type": "code",
      "execution_count": null,
      "id": "f57ebc23-14b7-47f9-90b8-1d791ccfc9bc",
      "metadata": {
        "colab": {
          "base_uri": "https://localhost:8080/",
          "height": 538
        },
        "id": "f57ebc23-14b7-47f9-90b8-1d791ccfc9bc",
        "outputId": "611c2ada-3e71-48d5-b62b-d92c9bb2eabe"
      },
      "outputs": [
        {
          "output_type": "execute_result",
          "data": {
            "text/plain": [
              "     drug_name medical_condition  \\\n",
              "0      Vyvanse              ADHD   \n",
              "1  amphetamine              ADHD   \n",
              "2   Ritalin LA              ADHD   \n",
              "3       Kapvay              ADHD   \n",
              "4     Methylin              ADHD   \n",
              "\n",
              "                                        side_effects  \\\n",
              "0  hives; difficult breathing; swelling of your f...   \n",
              "1  hives ; difficult breathing; swelling of your ...   \n",
              "2  Along with its needed effects, a medicine may ...   \n",
              "3  hives ; difficult breathing; swelling of your ...   \n",
              "4  Along with its needed effects, a medicine may ...   \n",
              "\n",
              "                   generic_name                             drug_classes  \\\n",
              "0              lisdexamfetamine                           CNS stimulants   \n",
              "1                   amphetamine                           CNS stimulants   \n",
              "2  methylphenidate (oral route)                           CNS stimulants   \n",
              "3              clonidine (oral)  Antiadrenergic agents, centrally acting   \n",
              "4  methylphenidate (oral route)                           CNS stimulants   \n",
              "\n",
              "                                         brand_names activity rx_otc  \\\n",
              "0                                                NaN     100%     Rx   \n",
              "1  Adzenys ER, Adzenys XR-ODT, Dyanavel XR, Eveke...       7%     Rx   \n",
              "2                                                NaN       7%     Rx   \n",
              "3                                                NaN       6%     Rx   \n",
              "4                                                NaN       6%     Rx   \n",
              "\n",
              "  pregnancy_category csa alcohol  \\\n",
              "0                  C   2       X   \n",
              "1                  C   2       X   \n",
              "2                  C   2       X   \n",
              "3                  C   N       X   \n",
              "4                  C   2       X   \n",
              "\n",
              "                                       related_drugs  \\\n",
              "0                                                NaN   \n",
              "1  Adderall: https://www.drugs.com/adderall.html ...   \n",
              "2  Adderall: https://www.drugs.com/adderall.html ...   \n",
              "3  Adderall: https://www.drugs.com/adderall.html ...   \n",
              "4  Adderall: https://www.drugs.com/adderall.html ...   \n",
              "\n",
              "                       medical_condition_description  rating  no_of_reviews  \\\n",
              "0  ADHD (Attention Deficit Hyperactivity Disorder...     7.3          768.0   \n",
              "1  ADHD (Attention Deficit Hyperactivity Disorder...     6.4          119.0   \n",
              "2  ADHD (Attention Deficit Hyperactivity Disorder...     7.9           17.0   \n",
              "3  ADHD (Attention Deficit Hyperactivity Disorder...     7.4           18.0   \n",
              "4  ADHD (Attention Deficit Hyperactivity Disorder...     8.2           14.0   \n",
              "\n",
              "                                    drug_link  \\\n",
              "0          https://www.drugs.com/vyvanse.html   \n",
              "1      https://www.drugs.com/amphetamine.html   \n",
              "2  https://www.drugs.com/cons/ritalin-la.html   \n",
              "3           https://www.drugs.com/kapvay.html   \n",
              "4    https://www.drugs.com/cons/methylin.html   \n",
              "\n",
              "                               medical_condition_url  \n",
              "0  https://www.drugs.com/condition/attention-defi...  \n",
              "1  https://www.drugs.com/condition/attention-defi...  \n",
              "2  https://www.drugs.com/condition/attention-defi...  \n",
              "3  https://www.drugs.com/condition/attention-defi...  \n",
              "4  https://www.drugs.com/condition/attention-defi...  "
            ],
            "text/html": [
              "\n",
              "  <div id=\"df-d574db1f-8ffe-4348-87e4-39982dd28e13\" class=\"colab-df-container\">\n",
              "    <div>\n",
              "<style scoped>\n",
              "    .dataframe tbody tr th:only-of-type {\n",
              "        vertical-align: middle;\n",
              "    }\n",
              "\n",
              "    .dataframe tbody tr th {\n",
              "        vertical-align: top;\n",
              "    }\n",
              "\n",
              "    .dataframe thead th {\n",
              "        text-align: right;\n",
              "    }\n",
              "</style>\n",
              "<table border=\"1\" class=\"dataframe\">\n",
              "  <thead>\n",
              "    <tr style=\"text-align: right;\">\n",
              "      <th></th>\n",
              "      <th>drug_name</th>\n",
              "      <th>medical_condition</th>\n",
              "      <th>side_effects</th>\n",
              "      <th>generic_name</th>\n",
              "      <th>drug_classes</th>\n",
              "      <th>brand_names</th>\n",
              "      <th>activity</th>\n",
              "      <th>rx_otc</th>\n",
              "      <th>pregnancy_category</th>\n",
              "      <th>csa</th>\n",
              "      <th>alcohol</th>\n",
              "      <th>related_drugs</th>\n",
              "      <th>medical_condition_description</th>\n",
              "      <th>rating</th>\n",
              "      <th>no_of_reviews</th>\n",
              "      <th>drug_link</th>\n",
              "      <th>medical_condition_url</th>\n",
              "    </tr>\n",
              "  </thead>\n",
              "  <tbody>\n",
              "    <tr>\n",
              "      <th>0</th>\n",
              "      <td>Vyvanse</td>\n",
              "      <td>ADHD</td>\n",
              "      <td>hives; difficult breathing; swelling of your f...</td>\n",
              "      <td>lisdexamfetamine</td>\n",
              "      <td>CNS stimulants</td>\n",
              "      <td>NaN</td>\n",
              "      <td>100%</td>\n",
              "      <td>Rx</td>\n",
              "      <td>C</td>\n",
              "      <td>2</td>\n",
              "      <td>X</td>\n",
              "      <td>NaN</td>\n",
              "      <td>ADHD (Attention Deficit Hyperactivity Disorder...</td>\n",
              "      <td>7.3</td>\n",
              "      <td>768.0</td>\n",
              "      <td>https://www.drugs.com/vyvanse.html</td>\n",
              "      <td>https://www.drugs.com/condition/attention-defi...</td>\n",
              "    </tr>\n",
              "    <tr>\n",
              "      <th>1</th>\n",
              "      <td>amphetamine</td>\n",
              "      <td>ADHD</td>\n",
              "      <td>hives ; difficult breathing; swelling of your ...</td>\n",
              "      <td>amphetamine</td>\n",
              "      <td>CNS stimulants</td>\n",
              "      <td>Adzenys ER, Adzenys XR-ODT, Dyanavel XR, Eveke...</td>\n",
              "      <td>7%</td>\n",
              "      <td>Rx</td>\n",
              "      <td>C</td>\n",
              "      <td>2</td>\n",
              "      <td>X</td>\n",
              "      <td>Adderall: https://www.drugs.com/adderall.html ...</td>\n",
              "      <td>ADHD (Attention Deficit Hyperactivity Disorder...</td>\n",
              "      <td>6.4</td>\n",
              "      <td>119.0</td>\n",
              "      <td>https://www.drugs.com/amphetamine.html</td>\n",
              "      <td>https://www.drugs.com/condition/attention-defi...</td>\n",
              "    </tr>\n",
              "    <tr>\n",
              "      <th>2</th>\n",
              "      <td>Ritalin LA</td>\n",
              "      <td>ADHD</td>\n",
              "      <td>Along with its needed effects, a medicine may ...</td>\n",
              "      <td>methylphenidate (oral route)</td>\n",
              "      <td>CNS stimulants</td>\n",
              "      <td>NaN</td>\n",
              "      <td>7%</td>\n",
              "      <td>Rx</td>\n",
              "      <td>C</td>\n",
              "      <td>2</td>\n",
              "      <td>X</td>\n",
              "      <td>Adderall: https://www.drugs.com/adderall.html ...</td>\n",
              "      <td>ADHD (Attention Deficit Hyperactivity Disorder...</td>\n",
              "      <td>7.9</td>\n",
              "      <td>17.0</td>\n",
              "      <td>https://www.drugs.com/cons/ritalin-la.html</td>\n",
              "      <td>https://www.drugs.com/condition/attention-defi...</td>\n",
              "    </tr>\n",
              "    <tr>\n",
              "      <th>3</th>\n",
              "      <td>Kapvay</td>\n",
              "      <td>ADHD</td>\n",
              "      <td>hives ; difficult breathing; swelling of your ...</td>\n",
              "      <td>clonidine (oral)</td>\n",
              "      <td>Antiadrenergic agents, centrally acting</td>\n",
              "      <td>NaN</td>\n",
              "      <td>6%</td>\n",
              "      <td>Rx</td>\n",
              "      <td>C</td>\n",
              "      <td>N</td>\n",
              "      <td>X</td>\n",
              "      <td>Adderall: https://www.drugs.com/adderall.html ...</td>\n",
              "      <td>ADHD (Attention Deficit Hyperactivity Disorder...</td>\n",
              "      <td>7.4</td>\n",
              "      <td>18.0</td>\n",
              "      <td>https://www.drugs.com/kapvay.html</td>\n",
              "      <td>https://www.drugs.com/condition/attention-defi...</td>\n",
              "    </tr>\n",
              "    <tr>\n",
              "      <th>4</th>\n",
              "      <td>Methylin</td>\n",
              "      <td>ADHD</td>\n",
              "      <td>Along with its needed effects, a medicine may ...</td>\n",
              "      <td>methylphenidate (oral route)</td>\n",
              "      <td>CNS stimulants</td>\n",
              "      <td>NaN</td>\n",
              "      <td>6%</td>\n",
              "      <td>Rx</td>\n",
              "      <td>C</td>\n",
              "      <td>2</td>\n",
              "      <td>X</td>\n",
              "      <td>Adderall: https://www.drugs.com/adderall.html ...</td>\n",
              "      <td>ADHD (Attention Deficit Hyperactivity Disorder...</td>\n",
              "      <td>8.2</td>\n",
              "      <td>14.0</td>\n",
              "      <td>https://www.drugs.com/cons/methylin.html</td>\n",
              "      <td>https://www.drugs.com/condition/attention-defi...</td>\n",
              "    </tr>\n",
              "  </tbody>\n",
              "</table>\n",
              "</div>\n",
              "    <div class=\"colab-df-buttons\">\n",
              "\n",
              "  <div class=\"colab-df-container\">\n",
              "    <button class=\"colab-df-convert\" onclick=\"convertToInteractive('df-d574db1f-8ffe-4348-87e4-39982dd28e13')\"\n",
              "            title=\"Convert this dataframe to an interactive table.\"\n",
              "            style=\"display:none;\">\n",
              "\n",
              "  <svg xmlns=\"http://www.w3.org/2000/svg\" height=\"24px\" viewBox=\"0 -960 960 960\">\n",
              "    <path d=\"M120-120v-720h720v720H120Zm60-500h600v-160H180v160Zm220 220h160v-160H400v160Zm0 220h160v-160H400v160ZM180-400h160v-160H180v160Zm440 0h160v-160H620v160ZM180-180h160v-160H180v160Zm440 0h160v-160H620v160Z\"/>\n",
              "  </svg>\n",
              "    </button>\n",
              "\n",
              "  <style>\n",
              "    .colab-df-container {\n",
              "      display:flex;\n",
              "      gap: 12px;\n",
              "    }\n",
              "\n",
              "    .colab-df-convert {\n",
              "      background-color: #E8F0FE;\n",
              "      border: none;\n",
              "      border-radius: 50%;\n",
              "      cursor: pointer;\n",
              "      display: none;\n",
              "      fill: #1967D2;\n",
              "      height: 32px;\n",
              "      padding: 0 0 0 0;\n",
              "      width: 32px;\n",
              "    }\n",
              "\n",
              "    .colab-df-convert:hover {\n",
              "      background-color: #E2EBFA;\n",
              "      box-shadow: 0px 1px 2px rgba(60, 64, 67, 0.3), 0px 1px 3px 1px rgba(60, 64, 67, 0.15);\n",
              "      fill: #174EA6;\n",
              "    }\n",
              "\n",
              "    .colab-df-buttons div {\n",
              "      margin-bottom: 4px;\n",
              "    }\n",
              "\n",
              "    [theme=dark] .colab-df-convert {\n",
              "      background-color: #3B4455;\n",
              "      fill: #D2E3FC;\n",
              "    }\n",
              "\n",
              "    [theme=dark] .colab-df-convert:hover {\n",
              "      background-color: #434B5C;\n",
              "      box-shadow: 0px 1px 3px 1px rgba(0, 0, 0, 0.15);\n",
              "      filter: drop-shadow(0px 1px 2px rgba(0, 0, 0, 0.3));\n",
              "      fill: #FFFFFF;\n",
              "    }\n",
              "  </style>\n",
              "\n",
              "    <script>\n",
              "      const buttonEl =\n",
              "        document.querySelector('#df-d574db1f-8ffe-4348-87e4-39982dd28e13 button.colab-df-convert');\n",
              "      buttonEl.style.display =\n",
              "        google.colab.kernel.accessAllowed ? 'block' : 'none';\n",
              "\n",
              "      async function convertToInteractive(key) {\n",
              "        const element = document.querySelector('#df-d574db1f-8ffe-4348-87e4-39982dd28e13');\n",
              "        const dataTable =\n",
              "          await google.colab.kernel.invokeFunction('convertToInteractive',\n",
              "                                                    [key], {});\n",
              "        if (!dataTable) return;\n",
              "\n",
              "        const docLinkHtml = 'Like what you see? Visit the ' +\n",
              "          '<a target=\"_blank\" href=https://colab.research.google.com/notebooks/data_table.ipynb>data table notebook</a>'\n",
              "          + ' to learn more about interactive tables.';\n",
              "        element.innerHTML = '';\n",
              "        dataTable['output_type'] = 'display_data';\n",
              "        await google.colab.output.renderOutput(dataTable, element);\n",
              "        const docLink = document.createElement('div');\n",
              "        docLink.innerHTML = docLinkHtml;\n",
              "        element.appendChild(docLink);\n",
              "      }\n",
              "    </script>\n",
              "  </div>\n",
              "\n",
              "\n",
              "<div id=\"df-fe8c1b2f-0ced-42d3-b86f-f7b61924b6c8\">\n",
              "  <button class=\"colab-df-quickchart\" onclick=\"quickchart('df-fe8c1b2f-0ced-42d3-b86f-f7b61924b6c8')\"\n",
              "            title=\"Suggest charts\"\n",
              "            style=\"display:none;\">\n",
              "\n",
              "<svg xmlns=\"http://www.w3.org/2000/svg\" height=\"24px\"viewBox=\"0 0 24 24\"\n",
              "     width=\"24px\">\n",
              "    <g>\n",
              "        <path d=\"M19 3H5c-1.1 0-2 .9-2 2v14c0 1.1.9 2 2 2h14c1.1 0 2-.9 2-2V5c0-1.1-.9-2-2-2zM9 17H7v-7h2v7zm4 0h-2V7h2v10zm4 0h-2v-4h2v4z\"/>\n",
              "    </g>\n",
              "</svg>\n",
              "  </button>\n",
              "\n",
              "<style>\n",
              "  .colab-df-quickchart {\n",
              "      --bg-color: #E8F0FE;\n",
              "      --fill-color: #1967D2;\n",
              "      --hover-bg-color: #E2EBFA;\n",
              "      --hover-fill-color: #174EA6;\n",
              "      --disabled-fill-color: #AAA;\n",
              "      --disabled-bg-color: #DDD;\n",
              "  }\n",
              "\n",
              "  [theme=dark] .colab-df-quickchart {\n",
              "      --bg-color: #3B4455;\n",
              "      --fill-color: #D2E3FC;\n",
              "      --hover-bg-color: #434B5C;\n",
              "      --hover-fill-color: #FFFFFF;\n",
              "      --disabled-bg-color: #3B4455;\n",
              "      --disabled-fill-color: #666;\n",
              "  }\n",
              "\n",
              "  .colab-df-quickchart {\n",
              "    background-color: var(--bg-color);\n",
              "    border: none;\n",
              "    border-radius: 50%;\n",
              "    cursor: pointer;\n",
              "    display: none;\n",
              "    fill: var(--fill-color);\n",
              "    height: 32px;\n",
              "    padding: 0;\n",
              "    width: 32px;\n",
              "  }\n",
              "\n",
              "  .colab-df-quickchart:hover {\n",
              "    background-color: var(--hover-bg-color);\n",
              "    box-shadow: 0 1px 2px rgba(60, 64, 67, 0.3), 0 1px 3px 1px rgba(60, 64, 67, 0.15);\n",
              "    fill: var(--button-hover-fill-color);\n",
              "  }\n",
              "\n",
              "  .colab-df-quickchart-complete:disabled,\n",
              "  .colab-df-quickchart-complete:disabled:hover {\n",
              "    background-color: var(--disabled-bg-color);\n",
              "    fill: var(--disabled-fill-color);\n",
              "    box-shadow: none;\n",
              "  }\n",
              "\n",
              "  .colab-df-spinner {\n",
              "    border: 2px solid var(--fill-color);\n",
              "    border-color: transparent;\n",
              "    border-bottom-color: var(--fill-color);\n",
              "    animation:\n",
              "      spin 1s steps(1) infinite;\n",
              "  }\n",
              "\n",
              "  @keyframes spin {\n",
              "    0% {\n",
              "      border-color: transparent;\n",
              "      border-bottom-color: var(--fill-color);\n",
              "      border-left-color: var(--fill-color);\n",
              "    }\n",
              "    20% {\n",
              "      border-color: transparent;\n",
              "      border-left-color: var(--fill-color);\n",
              "      border-top-color: var(--fill-color);\n",
              "    }\n",
              "    30% {\n",
              "      border-color: transparent;\n",
              "      border-left-color: var(--fill-color);\n",
              "      border-top-color: var(--fill-color);\n",
              "      border-right-color: var(--fill-color);\n",
              "    }\n",
              "    40% {\n",
              "      border-color: transparent;\n",
              "      border-right-color: var(--fill-color);\n",
              "      border-top-color: var(--fill-color);\n",
              "    }\n",
              "    60% {\n",
              "      border-color: transparent;\n",
              "      border-right-color: var(--fill-color);\n",
              "    }\n",
              "    80% {\n",
              "      border-color: transparent;\n",
              "      border-right-color: var(--fill-color);\n",
              "      border-bottom-color: var(--fill-color);\n",
              "    }\n",
              "    90% {\n",
              "      border-color: transparent;\n",
              "      border-bottom-color: var(--fill-color);\n",
              "    }\n",
              "  }\n",
              "</style>\n",
              "\n",
              "  <script>\n",
              "    async function quickchart(key) {\n",
              "      const quickchartButtonEl =\n",
              "        document.querySelector('#' + key + ' button');\n",
              "      quickchartButtonEl.disabled = true;  // To prevent multiple clicks.\n",
              "      quickchartButtonEl.classList.add('colab-df-spinner');\n",
              "      try {\n",
              "        const charts = await google.colab.kernel.invokeFunction(\n",
              "            'suggestCharts', [key], {});\n",
              "      } catch (error) {\n",
              "        console.error('Error during call to suggestCharts:', error);\n",
              "      }\n",
              "      quickchartButtonEl.classList.remove('colab-df-spinner');\n",
              "      quickchartButtonEl.classList.add('colab-df-quickchart-complete');\n",
              "    }\n",
              "    (() => {\n",
              "      let quickchartButtonEl =\n",
              "        document.querySelector('#df-fe8c1b2f-0ced-42d3-b86f-f7b61924b6c8 button');\n",
              "      quickchartButtonEl.style.display =\n",
              "        google.colab.kernel.accessAllowed ? 'block' : 'none';\n",
              "    })();\n",
              "  </script>\n",
              "</div>\n",
              "\n",
              "    </div>\n",
              "  </div>\n"
            ],
            "application/vnd.google.colaboratory.intrinsic+json": {
              "type": "dataframe",
              "variable_name": "drugs_df",
              "summary": "{\n  \"name\": \"drugs_df\",\n  \"rows\": 1685,\n  \"fields\": [\n    {\n      \"column\": \"drug_name\",\n      \"properties\": {\n        \"dtype\": \"string\",\n        \"num_unique_values\": 1673,\n        \"samples\": [\n          \"Daliresp\",\n          \"insulin detemir\",\n          \"Asacol\"\n        ],\n        \"semantic_type\": \"\",\n        \"description\": \"\"\n      }\n    },\n    {\n      \"column\": \"medical_condition\",\n      \"properties\": {\n        \"dtype\": \"category\",\n        \"num_unique_values\": 47,\n        \"samples\": [\n          \"Herpes\",\n          \"Psoriasis\",\n          \"Hayfever\"\n        ],\n        \"semantic_type\": \"\",\n        \"description\": \"\"\n      }\n    },\n    {\n      \"column\": \"side_effects\",\n      \"properties\": {\n        \"dtype\": \"string\",\n        \"num_unique_values\": 1626,\n        \"samples\": [\n          \"hives ; difficulty breathing; swelling of your face, lips, tongue, or throat. Stop taking Bismatrol and call your doctor at once if you have: changes in behavior with nausea and vomiting ; hearing loss or ringing in your ears; diarrhea lasting longer than 2 days; or worsened stomach symptoms. Bismatrol can cause you to have a black or darkened tongue. This is a harmless side effect. Common side effects include: constipation ; or dark colored stools.\",\n          \"hives ; difficulty breathing; swelling of your face, lips, tongue, or throat. Zembrace SymTouch may cause serious side effects. Stop using Zembrace SymTouch and call your doctor at once if you have: sudden and severe stomach pain and bloody diarrhea ; severe chest pain, shortness of breath, irregular heartbeats; a seizure (convulsions); blood circulation problems in your legs or feet--cramps, tight or heavy feeling, numbness or tingling, muscle weakness, burning pain, cold feeling, color changes (pale or blue), hip pain; heart attack symptoms--chest pain or pressure, pain spreading to your jaw or shoulder, nausea, sweating; high levels of serotonin in the body-- agitation , hallucinations, fever, fast heart rate , overactive reflexes, nausea, vomiting , diarrhea, loss of coordination, fainting; increased blood pressure--severe headache, blurred vision, pounding in your neck or ears, anxiety , nosebleed; or signs of a stroke--sudden numbness or weakness (especially on one side of the body), sudden severe headache, slurred speech, problems with vision or balance. Common side effects of Zembrace SymTouch may include: numbness, tingling, warmth, redness, or burning sensation; pressure or heavy feeling in any part of your body; dizziness , drowsiness, feeling weak or tired; neck pain or stiffness; or pain or redness where the medicine was injected.\",\n          \"hives ; difficult breathing; swelling of your face, lips, tongue, or throat. Call your doctor at once if you have: irritation of treated skin; a sunburn; blurred vision, tunnel vision, eye pain , or seeing halos around lights; high blood sugar - increased thirst, increased urination, dry mouth, fruity breath odor; or possible signs of absorbing this medicine through your skin - weight gain (especially in your face or your upper back and torso), slow wound healing, thinning or discolored skin, increased body hair, muscle weakness, nausea , diarrhea , tiredness, mood changes, menstrual changes, sexual changes. Common Duobrii side effects may include: burning, stinging, redness, itching, pain, or swelling of treated skin; redness or crusting around your hair follicles; rash; peeling skin ; or thinning skin.\"\n        ],\n        \"semantic_type\": \"\",\n        \"description\": \"\"\n      }\n    },\n    {\n      \"column\": \"generic_name\",\n      \"properties\": {\n        \"dtype\": \"string\",\n        \"num_unique_values\": 949,\n        \"samples\": [\n          \"olanzapine (intramuscular route)\",\n          \"zolpidem\",\n          \"eletriptan\"\n        ],\n        \"semantic_type\": \"\",\n        \"description\": \"\"\n      }\n    },\n    {\n      \"column\": \"drug_classes\",\n      \"properties\": {\n        \"dtype\": \"category\",\n        \"num_unique_values\": 244,\n        \"samples\": [\n          \"First generation cephalosporins\",\n          \"Tricyclic antidepressants\",\n          \"Nasal steroids\"\n        ],\n        \"semantic_type\": \"\",\n        \"description\": \"\"\n      }\n    },\n    {\n      \"column\": \"brand_names\",\n      \"properties\": {\n        \"dtype\": \"string\",\n        \"num_unique_values\": 918,\n        \"samples\": [\n          \"Excedrin\",\n          \"AccessPak for HIV PEP Basic, Truvada\",\n          \"Luvox, Luvox CR\"\n        ],\n        \"semantic_type\": \"\",\n        \"description\": \"\"\n      }\n    },\n    {\n      \"column\": \"activity\",\n      \"properties\": {\n        \"dtype\": \"category\",\n        \"num_unique_values\": 93,\n        \"samples\": [\n          \"33%\",\n          \"27%\",\n          \"84%\"\n        ],\n        \"semantic_type\": \"\",\n        \"description\": \"\"\n      }\n    },\n    {\n      \"column\": \"rx_otc\",\n      \"properties\": {\n        \"dtype\": \"category\",\n        \"num_unique_values\": 3,\n        \"samples\": [\n          \"Rx\",\n          \"Rx/OTC\",\n          \"OTC\"\n        ],\n        \"semantic_type\": \"\",\n        \"description\": \"\"\n      }\n    },\n    {\n      \"column\": \"pregnancy_category\",\n      \"properties\": {\n        \"dtype\": \"category\",\n        \"num_unique_values\": 6,\n        \"samples\": [\n          \"C\",\n          \"N\",\n          \"A\"\n        ],\n        \"semantic_type\": \"\",\n        \"description\": \"\"\n      }\n    },\n    {\n      \"column\": \"csa\",\n      \"properties\": {\n        \"dtype\": \"category\",\n        \"num_unique_values\": 7,\n        \"samples\": [\n          \"2\",\n          \"N\",\n          \"3\"\n        ],\n        \"semantic_type\": \"\",\n        \"description\": \"\"\n      }\n    },\n    {\n      \"column\": \"alcohol\",\n      \"properties\": {\n        \"dtype\": \"category\",\n        \"num_unique_values\": 1,\n        \"samples\": [\n          \"X\"\n        ],\n        \"semantic_type\": \"\",\n        \"description\": \"\"\n      }\n    },\n    {\n      \"column\": \"related_drugs\",\n      \"properties\": {\n        \"dtype\": \"category\",\n        \"num_unique_values\": 439,\n        \"samples\": [\n          \"amlodipine: https://www.drugs.com/amlodipine.html | lisinopril: https://www.drugs.com/lisinopril.html | losartan: https://www.drugs.com/losartan.html | metoprolol: https://www.drugs.com/metoprolol.html | furosemide: https://www.drugs.com/furosemide.html | hydrochlorothiazide: https://www.drugs.com/hctz.html | tamsulosin: https://www.drugs.com/tamsulosin.html | finasteride: https://www.drugs.com/mtm/finasteride.html | nitroglycerin: https://www.drugs.com/mtm/nitroglycerin-oral-sublingual.html | nifedipine: https://www.drugs.com/nifedipine.html\"\n        ],\n        \"semantic_type\": \"\",\n        \"description\": \"\"\n      }\n    },\n    {\n      \"column\": \"medical_condition_description\",\n      \"properties\": {\n        \"dtype\": \"category\",\n        \"num_unique_values\": 47,\n        \"samples\": [\n          \"Herpes Simplex An infection caused by herpes viruses 1 or 2 -- which primarily affects the mouth or genital area. Drugs used for Herpes Simplex The following list of medications are in some way related to or used in the treatment of this condition. Select drug class All drug classes Topical anti-infectives (2) Miscellaneous topical agents (2) Purine nucleosides (3) Topical antivirals (3) Show Hide filters Filter Brands and Generics Brands and generics Brands Generics Include off-label drugs Include off-label drugs Approved Off-label Rx and OTC Rx and OTC Rx OTC Drug name Rating Reviews Activity &quest; Rx/OTC Preg nancy CSA Alcohol Expand current row for information about acyclovir acyclovir 8.0 94 reviews Rx B N Generic name: acyclovir systemic Brand name: Zovirax Drug class: purine nucleosides For consumers: dosage , interactions , side effects For professionals: AHFS DI Monograph , Prescribing Information Expand current row for information about valacyclovir valacyclovir 5.8 9 reviews Rx B N Generic name: valacyclovir systemic Drug class: purine nucleosides For consumers: dosage , interactions , side effects For professionals: AHFS DI Monograph , Prescribing Information Expand current row for information about Zovirax Cream Zovirax Cream 9.3 4 reviews Rx B N Generic name: acyclovir topical Drug class: topical antivirals For consumers: dosage , interactions , side effects For professionals: Prescribing Information Expand current row for information about Abreva Abreva 4.5 422 reviews OTC N N Generic name: docosanol topical Drug class: topical anti-infectives For consumers: dosage , side effects Expand current row for information about acyclovir acyclovir 8.6 14 reviews Rx B N Generic name: acyclovir topical Brand names: Zovirax Cream, Zovirax Ointment Drug class: topical antivirals For consumers: dosage , interactions , side effects For professionals: AHFS DI Monograph , Prescribing Information Expand current row for information about Zovirax Ointment Zovirax Ointment 8.7 3 reviews Rx B N Generic name: acyclovir topical Drug class: topical antivirals For consumers: dosage , interactions , side effects For professionals: Prescribing Information Expand current row for information about Zovirax Zovirax 7.4 7 reviews Rx B N Generic name: acyclovir systemic Drug class: purine nucleosides For consumers: dosage , interactions , side effects For professionals: Prescribing Information Expand current row for information about docosanol docosanol 4.6 433 reviews OTC N N Generic name: docosanol topical Brand name: Abreva Drug class: topical anti-infectives For consumers: dosage , side effects For professionals: AHFS DI Monograph Expand current row for information about Blistex Ointment Blistex Ointment 10 1 review OTC N N Generic name: allantoin / camphor / phenol topical Drug class: miscellaneous topical agents For consumers: side effects Expand current row for information about allantoin / camphor / phenol allantoin / camphor / phenol 10 1 review OTC N N Generic name: allantoin / camphor / phenol topical Brand name: Blistex Ointment Drug class: miscellaneous topical agents For consumers: side effects Frequently asked questions If you have the herpes simplex outbreaks, what dosage of lysine do you recommend? Topics under Herpes Simplex Cold Sores (18 drugs) Herpes Simplex - Congenital (2 drugs) Herpes Simplex, Mucocutaneous/Immunocompetent Host (4 drugs) Herpes Simplex, Mucocutaneous/Immunocompromised Host (6 drugs) Herpes Simplex, Suppression (5 drugs) Alternative treatments for Herpes Simplex The following products are considered to be alternative treatments or natural remedies for Herpes Simplex. Their efficacy may not have been scientifically tested to the same degree as the drugs listed in the table above. However there may be historical, cultural or anecdotal evidence linking their use to the treatment of Herpes Simplex. Lysine Learn more about Herpes Simplex Drug Treatment of HIV and AIDS Complications Care guides Herpes Simplex Care Notes Symptoms and treatments Herpes Simplex Health Guide Medicine.com guides (external) Herpes Simplex Guide Legend Rating For ratings, users were asked how effective they found the medicine while considering positive/adverse effects and ease of use (1 = not effective, 10 = most effective). Activity Activity is based on recent site visitor activity relative to other medications in the list. Rx Prescription only. OTC Over-the-counter. Rx/OTC Prescription or Over-the-counter. Off-label This medication may not be approved by the FDA for the treatment of this condition. EUA An Emergency Use Authorization (EUA) allows the FDA to authorize unapproved medical products or unapproved uses of approved medical products to be used in a declared public health emergency when there are no adequate, approved, and available alternatives. Pregnancy Category A Adequate and well-controlled studies have failed to demonstrate a risk to the fetus in the first trimester of pregnancy (and there is no evidence of risk in later trimesters). B Animal reproduction studies have failed to demonstrate a risk to the fetus and there are no adequate and well-controlled studies in pregnant women. C Animal reproduction studies have shown an adverse effect on the fetus and there are no adequate and well-controlled studies in humans, but potential benefits may warrant use in pregnant women despite potential risks. D There is positive evidence of human fetal risk based on adverse reaction data from investigational or marketing experience or studies in humans, but potential benefits may warrant use in pregnant women despite potential risks. X Studies in animals or humans have demonstrated fetal abnormalities and/or there is positive evidence of human fetal risk based on adverse reaction data from investigational or marketing experience, and the risks involved in use in pregnant women clearly outweigh potential benefits. N FDA has not classified the drug. Controlled Substances Act (CSA) Schedule M The drug has multiple schedules. The schedule may depend on the exact dosage form or strength of the medication. U CSA Schedule is unknown. N Is not subject to the Controlled Substances Act. 1 Has a high potential for abuse. Has no currently accepted medical use in treatment in the United States. There is a lack of accepted safety for use under medical supervision. 2 Has a high potential for abuse. Has a currently accepted medical use in treatment in the United States or a currently accepted medical use with severe restrictions. Abuse may lead to severe psychological or physical dependence. 3 Has a potential for abuse less than those in schedules 1 and 2. Has a currently accepted medical use in treatment in the United States. Abuse may lead to moderate or low physical dependence or high psychological dependence. 4 Has a low potential for abuse relative to those in schedule 3. It has a currently accepted medical use in treatment in the United States. Abuse may lead to limited physical dependence or psychological dependence relative to those in schedule 3. 5 Has a low potential for abuse relative to those in schedule 4. Has a currently accepted medical use in treatment in the United States. Abuse may lead to limited physical dependence or psychological dependence relative to those in schedule 4. Alcohol X Interacts with Alcohol. Browse treatment options A B C D E F G H I J K L M N O P Q R S T U V W X Y Z Further information Always consult your healthcare provider to ensure the information displayed on this page applies to your personal circumstances. Medical Disclaimer\"\n        ],\n        \"semantic_type\": \"\",\n        \"description\": \"\"\n      }\n    },\n    {\n      \"column\": \"rating\",\n      \"properties\": {\n        \"dtype\": \"number\",\n        \"std\": 2.1559151250834536,\n        \"min\": 0.0,\n        \"max\": 10.0,\n        \"num_unique_values\": 84,\n        \"samples\": [\n          3.1\n        ],\n        \"semantic_type\": \"\",\n        \"description\": \"\"\n      }\n    },\n    {\n      \"column\": \"no_of_reviews\",\n      \"properties\": {\n        \"dtype\": \"number\",\n        \"std\": 209.23679258463946,\n        \"min\": 1.0,\n        \"max\": 2934.0,\n        \"num_unique_values\": 288,\n        \"samples\": [\n          4.0\n        ],\n        \"semantic_type\": \"\",\n        \"description\": \"\"\n      }\n    },\n    {\n      \"column\": \"drug_link\",\n      \"properties\": {\n        \"dtype\": \"string\",\n        \"num_unique_values\": 1685,\n        \"samples\": [\n          \"https://www.drugs.com/mtm/covaryx-hs.html\"\n        ],\n        \"semantic_type\": \"\",\n        \"description\": \"\"\n      }\n    },\n    {\n      \"column\": \"medical_condition_url\",\n      \"properties\": {\n        \"dtype\": \"category\",\n        \"num_unique_values\": 47,\n        \"samples\": [\n          \"https://www.drugs.com/condition/herpes-simplex.html\"\n        ],\n        \"semantic_type\": \"\",\n        \"description\": \"\"\n      }\n    }\n  ]\n}"
            }
          },
          "metadata": {},
          "execution_count": 3
        }
      ],
      "source": [
        "# Read in the dataset we'll use for this task.\n",
        "# This will be the RecipesNLG dataset, which we've cleaned to only contain documents from www.cookbooks.com\n",
        "#recipe_df = pd.read_csv(\"data/cookbook_recipes_nlg_10k.csv\")\n",
        "drugs_df = pd.read_csv(\"/content/drugs_side_effects_AI.csv\")\n",
        "drugs_df.head()"
      ]
    },
    {
      "cell_type": "code",
      "execution_count": null,
      "id": "9a8216b0-d1dc-472d-b07d-1be03acd70a5",
      "metadata": {
        "id": "9a8216b0-d1dc-472d-b07d-1be03acd70a5"
      },
      "outputs": [],
      "source": [
        "training_data = []\n",
        "system_message=\"You are a helpful pharmaceutical assistant. Provide drug recommendations based on detailed medical condition descriptions when requested\"\n",
        "def create_user_message(condition_description):\n",
        "    return f\"I have symptoms of {condition_description[:150]}... What medication can help?\"\n",
        "\n",
        "def prepare_example_conversation(row):\n",
        "    messages = []\n",
        "    messages.append({\"role\": \"system\", \"content\": system_message})\n",
        "\n",
        "    user_message = create_user_message(row['medical_condition_description'])\n",
        "    messages.append({\"role\": \"user\", \"content\": user_message})\n",
        "\n",
        "    assistant_message = f\"For the symptoms and condition described, {row['drug_name']} is commonly recommended. It treats {row['medical_condition']}.\"\n",
        "    messages.append({\"role\": \"assistant\", \"content\": assistant_message})\n",
        "\n",
        "    return {\"messages\": messages}\n"
      ]
    },
    {
      "cell_type": "code",
      "source": [
        "import pandas as pd\n",
        "from sklearn.model_selection import train_test_split\n",
        "\n",
        "# Assuming 'drugs_df' is your DataFrame containing the data\n",
        "\n",
        "# Shuffle the DataFrame\n",
        "drugs_df = drugs_df.sample(frac=1).reset_index(drop=True)\n",
        "\n",
        "# Calculate the number of rows for train, validation, and test sets\n",
        "total_rows = len(drugs_df)\n",
        "train_frac = 0.70\n",
        "val_frac = 0.15\n",
        "test_frac = 0.15  # This can be adjusted if the sum doesn't add up to 1.0 exactly due to rounding\n",
        "\n",
        "# Calculate split indices\n",
        "train_end = int(train_frac * total_rows)\n",
        "val_end = train_end + int(val_frac * total_rows)\n",
        "\n",
        "# Slice the DataFrame\n",
        "train_df = drugs_df[:train_end]\n",
        "val_df = drugs_df[train_end:val_end]\n",
        "test_df = drugs_df[val_end:]\n",
        "\n",
        "# Apply the 'prepare_example_conversation' function to each subset\n",
        "training_data = train_df.apply(prepare_example_conversation, axis=1).tolist()\n",
        "validation_data = val_df.apply(prepare_example_conversation, axis=1).tolist()\n",
        "test_data = test_df.apply(prepare_example_conversation, axis=1).tolist()\n",
        "\n",
        "# Example output to verify\n",
        "# Print the first 5 examples from the training data to check\n",
        "for example in training_data[:5]:\n",
        "    print(example)\n"
      ],
      "metadata": {
        "colab": {
          "base_uri": "https://localhost:8080/"
        },
        "id": "-lvcbU0BZ84U",
        "outputId": "2f13bde1-cac5-4617-8691-49a3fe08a309"
      },
      "id": "-lvcbU0BZ84U",
      "execution_count": null,
      "outputs": [
        {
          "output_type": "stream",
          "name": "stdout",
          "text": [
            "{'messages': [{'role': 'system', 'content': 'You are a helpful pharmaceutical assistant. Provide drug recommendations based on detailed medical condition descriptions when requested'}, {'role': 'user', 'content': 'I have symptoms of Asthma Other names: Bronchial Asthma; Exercise-induced asthma; Wheezing Asthma is an inflammatory disorder of the airways, characterized by periodic a... What medication can help?'}, {'role': 'assistant', 'content': 'For the symptoms and condition described, Dulera is commonly recommended. It treats Asthma.'}]}\n",
            "{'messages': [{'role': 'system', 'content': 'You are a helpful pharmaceutical assistant. Provide drug recommendations based on detailed medical condition descriptions when requested'}, {'role': 'user', 'content': 'I have symptoms of Urinary Tract Infection Other names: Acute Bacterial Cystitis; Catheter-Associated Urinary Tract Infection; Chronic Urinary Tract Infection; Cystitis,... What medication can help?'}, {'role': 'assistant', 'content': 'For the symptoms and condition described, cefadroxil is commonly recommended. It treats UTI.'}]}\n",
            "{'messages': [{'role': 'system', 'content': 'You are a helpful pharmaceutical assistant. Provide drug recommendations based on detailed medical condition descriptions when requested'}, {'role': 'user', 'content': 'I have symptoms of Constipation Other names: Difficulty passing stool; Irregularity of bowels Constipation is the term used to describe difficulty or infrequency in pass... What medication can help?'}, {'role': 'assistant', 'content': 'For the symptoms and condition described, Fiber Lax is commonly recommended. It treats Constipation.'}]}\n",
            "{'messages': [{'role': 'system', 'content': 'You are a helpful pharmaceutical assistant. Provide drug recommendations based on detailed medical condition descriptions when requested'}, {'role': 'user', 'content': 'I have symptoms of Menopausal Disorders Other names: Change of Life; Climacteric; Menopause Menopausal Disorders are disorders relating to menopause –a natural transitio... What medication can help?'}, {'role': 'assistant', 'content': 'For the symptoms and condition described, Bijuva is commonly recommended. It treats Menopause.'}]}\n",
            "{'messages': [{'role': 'system', 'content': 'You are a helpful pharmaceutical assistant. Provide drug recommendations based on detailed medical condition descriptions when requested'}, {'role': 'user', 'content': 'I have symptoms of Osteoarthritis Other names: Arthritis, Osteoarthritis; Degenerative Arthritis; Degenerative joint disease; DJD; Gonarthrosis; Hypertrophic Osteoarthri... What medication can help?'}, {'role': 'assistant', 'content': 'For the symptoms and condition described, etodolac is commonly recommended. It treats Osteoarthritis.'}]}\n"
          ]
        }
      ]
    },
    {
      "cell_type": "code",
      "execution_count": null,
      "id": "8d2eb207-2c2b-43f6-a613-64a7e92d494d",
      "metadata": {
        "id": "8d2eb207-2c2b-43f6-a613-64a7e92d494d"
      },
      "outputs": [],
      "source": [
        "def write_jsonl(data_list: list, filename: str) -> None:\n",
        "    with open(filename, \"w\") as out:\n",
        "        for ddict in data_list:\n",
        "            jout = json.dumps(ddict) + \"\\n\"\n",
        "            out.write(jout)"
      ]
    },
    {
      "cell_type": "code",
      "execution_count": null,
      "id": "8b53e7a2-1cac-4c5f-8ba4-3292ba2a0770",
      "metadata": {
        "id": "8b53e7a2-1cac-4c5f-8ba4-3292ba2a0770"
      },
      "outputs": [],
      "source": [
        "training_file_name = \"tmp_recipe_finetune_training.jsonl\"\n",
        "write_jsonl(training_data, training_file_name)\n",
        "\n",
        "validation_file_name = \"tmp_recipe_finetune_validation.jsonl\"\n",
        "write_jsonl(validation_data, validation_file_name)"
      ]
    },
    {
      "cell_type": "code",
      "execution_count": null,
      "id": "283c4ec2",
      "metadata": {
        "colab": {
          "base_uri": "https://localhost:8080/"
        },
        "id": "283c4ec2",
        "outputId": "3a2e99e5-f508-4050-a3d2-23b59f40be39"
      },
      "outputs": [
        {
          "output_type": "stream",
          "name": "stdout",
          "text": [
            "{\"messages\": [{\"role\": \"system\", \"content\": \"You are a helpful pharmaceutical assistant. Provide drug recommendations based on detailed medical condition descriptions when requested\"}, {\"role\": \"user\", \"content\": \"I have symptoms of Asthma Other names: Bronchial Asthma; Exercise-induced asthma; Wheezing Asthma is an inflammatory disorder of the airways, characterized by periodic a... What medication can help?\"}, {\"role\": \"assistant\", \"content\": \"For the symptoms and condition described, Dulera is commonly recommended. It treats Asthma.\"}]}\n",
            "{\"messages\": [{\"role\": \"system\", \"content\": \"You are a helpful pharmaceutical assistant. Provide drug recommendations based on detailed medical condition descriptions when requested\"}, {\"role\": \"user\", \"content\": \"I have symptoms of Urinary Tract Infection Other names: Acute Bacterial Cystitis; Catheter-Associated Urinary Tract Infection; Chronic Urinary Tract Infection; Cystitis,... What medication can help?\"}, {\"role\": \"assistant\", \"content\": \"For the symptoms and condition described, cefadroxil is commonly recommended. It treats UTI.\"}]}\n",
            "{\"messages\": [{\"role\": \"system\", \"content\": \"You are a helpful pharmaceutical assistant. Provide drug recommendations based on detailed medical condition descriptions when requested\"}, {\"role\": \"user\", \"content\": \"I have symptoms of Constipation Other names: Difficulty passing stool; Irregularity of bowels Constipation is the term used to describe difficulty or infrequency in pass... What medication can help?\"}, {\"role\": \"assistant\", \"content\": \"For the symptoms and condition described, Fiber Lax is commonly recommended. It treats Constipation.\"}]}\n",
            "{\"messages\": [{\"role\": \"system\", \"content\": \"You are a helpful pharmaceutical assistant. Provide drug recommendations based on detailed medical condition descriptions when requested\"}, {\"role\": \"user\", \"content\": \"I have symptoms of Menopausal Disorders Other names: Change of Life; Climacteric; Menopause Menopausal Disorders are disorders relating to menopause \\u2013a natural transitio... What medication can help?\"}, {\"role\": \"assistant\", \"content\": \"For the symptoms and condition described, Bijuva is commonly recommended. It treats Menopause.\"}]}\n",
            "{\"messages\": [{\"role\": \"system\", \"content\": \"You are a helpful pharmaceutical assistant. Provide drug recommendations based on detailed medical condition descriptions when requested\"}, {\"role\": \"user\", \"content\": \"I have symptoms of Osteoarthritis Other names: Arthritis, Osteoarthritis; Degenerative Arthritis; Degenerative joint disease; DJD; Gonarthrosis; Hypertrophic Osteoarthri... What medication can help?\"}, {\"role\": \"assistant\", \"content\": \"For the symptoms and condition described, etodolac is commonly recommended. It treats Osteoarthritis.\"}]}\n"
          ]
        }
      ],
      "source": [
        "# print the first 5 lines of the training file\n",
        "!head -n 5 tmp_recipe_finetune_training.jsonl"
      ]
    },
    {
      "cell_type": "code",
      "execution_count": null,
      "id": "69462d9e-e6bd-49b9-a064-9eae4ea5b7a8",
      "metadata": {
        "colab": {
          "base_uri": "https://localhost:8080/"
        },
        "id": "69462d9e-e6bd-49b9-a064-9eae4ea5b7a8",
        "outputId": "a3724801-721b-4c58-fdc5-9b76a5c9375a"
      },
      "outputs": [
        {
          "output_type": "stream",
          "name": "stdout",
          "text": [
            "Training file ID: file-lQygf0qmvpLpDcvlVFP4G9cj\n",
            "Validation file ID: file-nKqifWokX45fZj851RgIGHjx\n"
          ]
        }
      ],
      "source": [
        "with open(training_file_name, \"rb\") as training_fd:\n",
        "    training_response = client.files.create(\n",
        "        file=training_fd, purpose=\"fine-tune\"\n",
        "    )\n",
        "\n",
        "training_file_id = training_response.id\n",
        "\n",
        "with open(validation_file_name, \"rb\") as validation_fd:\n",
        "    validation_response = client.files.create(\n",
        "        file=validation_fd, purpose=\"fine-tune\"\n",
        "    )\n",
        "validation_file_id = validation_response.id\n",
        "\n",
        "print(\"Training file ID:\", training_file_id)\n",
        "print(\"Validation file ID:\", validation_file_id)"
      ]
    },
    {
      "cell_type": "code",
      "execution_count": null,
      "id": "05541ceb-5628-447e-962d-7e57c112439c",
      "metadata": {
        "id": "05541ceb-5628-447e-962d-7e57c112439c",
        "colab": {
          "base_uri": "https://localhost:8080/"
        },
        "outputId": "6dfd54df-2303-4b2c-e9d0-ab9c48e3d10a"
      },
      "outputs": [
        {
          "output_type": "stream",
          "name": "stdout",
          "text": [
            "Job ID: ftjob-Juoo2dAVYXIpt9FNV3q6Zzrk\n",
            "Status: validating_files\n"
          ]
        }
      ],
      "source": [
        "response = client.fine_tuning.jobs.create(\n",
        "    training_file=training_file_id,\n",
        "    validation_file=validation_file_id,\n",
        "    model=\"gpt-3.5-turbo\",\n",
        "    suffix=\"recipe-ner\",\n",
        ")\n",
        "\n",
        "job_id = response.id\n",
        "\n",
        "print(\"Job ID:\", response.id)\n",
        "print(\"Status:\", response.status)"
      ]
    },
    {
      "cell_type": "code",
      "execution_count": null,
      "id": "d7392f48",
      "metadata": {
        "colab": {
          "base_uri": "https://localhost:8080/"
        },
        "id": "d7392f48",
        "outputId": "80dd98c1-8d83-4826-8c69-555bc922b1f4"
      },
      "outputs": [
        {
          "output_type": "stream",
          "name": "stdout",
          "text": [
            "Job ID: ftjob-Juoo2dAVYXIpt9FNV3q6Zzrk\n",
            "Status: succeeded\n",
            "Trained Tokens: 344334\n"
          ]
        }
      ],
      "source": [
        "response = client.fine_tuning.jobs.retrieve(job_id)\n",
        "\n",
        "print(\"Job ID:\", response.id)\n",
        "print(\"Status:\", response.status)\n",
        "print(\"Trained Tokens:\", response.trained_tokens)\n"
      ]
    },
    {
      "cell_type": "code",
      "execution_count": null,
      "id": "08cace28",
      "metadata": {
        "colab": {
          "base_uri": "https://localhost:8080/"
        },
        "id": "08cace28",
        "outputId": "c2f3c30f-2601-465e-f692-a148c5acc3fd"
      },
      "outputs": [
        {
          "output_type": "stream",
          "name": "stdout",
          "text": [
            "Step 1754/1769: training loss=0.24\n",
            "Step 1755/1769: training loss=0.31\n",
            "Step 1756/1769: training loss=0.24\n",
            "Step 1757/1769: training loss=0.19\n",
            "Step 1758/1769: training loss=0.22\n",
            "Step 1759/1769: training loss=0.14\n",
            "Step 1760/1769: training loss=0.24\n",
            "Step 1761/1769: training loss=0.24\n",
            "Step 1762/1769: training loss=0.17\n",
            "Step 1763/1769: training loss=0.12\n",
            "Step 1764/1769: training loss=0.28\n",
            "Step 1765/1769: training loss=0.17\n",
            "Step 1766/1769: training loss=0.26\n",
            "Step 1767/1769: training loss=0.16, full validation loss=0.30\n",
            "Step 1768/1769: training loss=0.32\n",
            "Step 1769/1769: training loss=0.31\n",
            "Checkpoint created at step 1178 with Snapshot ID: ft:gpt-3.5-turbo-0125:personal:recipe-ner:9Npbk7N9:ckpt-step-1178\n",
            "Checkpoint created at step 1767 with Snapshot ID: ft:gpt-3.5-turbo-0125:personal:recipe-ner:9NpblSNg:ckpt-step-1767\n",
            "New fine-tuned model created: ft:gpt-3.5-turbo-0125:personal:recipe-ner:9Npbl2pO\n",
            "The job has successfully completed\n"
          ]
        }
      ],
      "source": [
        "response = client.fine_tuning.jobs.list_events(job_id)\n",
        "\n",
        "events = response.data\n",
        "events.reverse()\n",
        "\n",
        "for event in events:\n",
        "    print(event.message)"
      ]
    },
    {
      "cell_type": "code",
      "execution_count": null,
      "id": "40b28c26",
      "metadata": {
        "colab": {
          "base_uri": "https://localhost:8080/"
        },
        "id": "40b28c26",
        "outputId": "91b021a9-3fb0-426d-c4fe-be3215c9bd65"
      },
      "outputs": [
        {
          "output_type": "stream",
          "name": "stdout",
          "text": [
            "Fine-tuned model ID: ft:gpt-3.5-turbo-0125:personal:recipe-ner:9Npbl2pO\n"
          ]
        }
      ],
      "source": [
        "response = client.fine_tuning.jobs.retrieve(job_id)\n",
        "fine_tuned_model_id = response.fine_tuned_model\n",
        "\n",
        "if fine_tuned_model_id is None:\n",
        "    raise RuntimeError(\"Fine-tuned model ID not found. Your job has likely not been completed yet.\")\n",
        "\n",
        "print(\"Fine-tuned model ID:\", fine_tuned_model_id)"
      ]
    },
    {
      "cell_type": "code",
      "execution_count": null,
      "id": "1c7de631-b68f-4eff-9ae7-051641579c2b",
      "metadata": {
        "id": "1c7de631-b68f-4eff-9ae7-051641579c2b",
        "colab": {
          "base_uri": "https://localhost:8080/"
        },
        "outputId": "8ac26a71-53f1-4ca9-99d3-c0990fc6980d"
      },
      "outputs": [
        {
          "output_type": "stream",
          "name": "stdout",
          "text": [
            "[{'content': 'You are a helpful pharmaceutical assistant. Provide drug '\n",
            "             'recommendations based on detailed medical condition descriptions '\n",
            "             'when requested',\n",
            "  'role': 'system'},\n",
            " {'content': 'I have symptoms of '\n",
            "             'drug_name                                                                '\n",
            "             'ritonavir\\n'\n",
            "             'medical_condition                                                         '\n",
            "             'AIDS/HIV\\n'\n",
            "             'side_effects                     irregular heartbeats, or a '\n",
            "             'light-headed feelin...\\n'\n",
            "             'generic_name                                                             '\n",
            "             'ritonavir\\n'\n",
            "             'drug_classes                               Antiviral boosters, '\n",
            "             'Protease inhibitors\\n'\n",
            "             'brand_names                                                                 '\n",
            "             'Norvir\\n'\n",
            "             'activity                                                                       '\n",
            "             '17%\\n'\n",
            "             'rx_otc                                                                          '\n",
            "             'Rx\\n'\n",
            "             'pregnancy_category                                                               '\n",
            "             'B\\n'\n",
            "             'csa                                                                              '\n",
            "             'N\\n'\n",
            "             'alcohol                                                                        '\n",
            "             'NaN\\n'\n",
            "             'related_drugs                    Truvada: '\n",
            "             'https://www.drugs.com/truvada.html | ...\\n'\n",
            "             'medical_condition_description    HIV Infection Other names: '\n",
            "             'Acquired Immune Def...\\n'\n",
            "             'rating                                                                         '\n",
            "             '1.0\\n'\n",
            "             'no_of_reviews                                                                  '\n",
            "             '3.0\\n'\n",
            "             'drug_link                                 '\n",
            "             'https://www.drugs.com/mtm/ritonavir.html\\n'\n",
            "             'medical_condition_url            '\n",
            "             'https://www.drugs.com/condition/hiv-infection....\\n'\n",
            "             'Name: 201, dtype: object... What medication can help?',\n",
            "  'role': 'user'}]\n"
          ]
        }
      ],
      "source": [
        "test_df = drugs_df.loc[201:300]\n",
        "test_row = test_df.iloc[0]\n",
        "test_messages = []\n",
        "test_messages.append({\"role\": \"system\", \"content\": system_message})\n",
        "user_message = create_user_message(test_row)\n",
        "test_messages.append({\"role\": \"user\", \"content\": user_message})\n",
        "\n",
        "pprint(test_messages)"
      ]
    },
    {
      "cell_type": "code",
      "execution_count": null,
      "id": "1a1d2589",
      "metadata": {
        "id": "1a1d2589",
        "colab": {
          "base_uri": "https://localhost:8080/"
        },
        "outputId": "c912c790-0d6c-45d0-8ab8-961206ac8773"
      },
      "outputs": [
        {
          "output_type": "stream",
          "name": "stdout",
          "text": [
            "For the symptoms and condition described, ritonavir is commonly recommended. It treats AIDS/HIV.\n"
          ]
        }
      ],
      "source": [
        "response = client.chat.completions.create(\n",
        "    model=fine_tuned_model_id, messages=test_messages, temperature=0, max_tokens=500\n",
        ")\n",
        "print(response.choices[0].message.content)"
      ]
    }
  ],
  "metadata": {
    "kernelspec": {
      "display_name": "Python 3",
      "language": "python",
      "name": "python3"
    },
    "language_info": {
      "codemirror_mode": {
        "name": "ipython",
        "version": 3
      },
      "file_extension": ".py",
      "mimetype": "text/x-python",
      "name": "python",
      "nbconvert_exporter": "python",
      "pygments_lexer": "ipython3",
      "version": "3.11.3"
    },
    "colab": {
      "provenance": []
    }
  },
  "nbformat": 4,
  "nbformat_minor": 5
}